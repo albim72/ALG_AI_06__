{
 "cells":[
  {
   "cell_type":"code",
   "source":[
    "print(\"to jest pierwsza komórka w notebooku...\")"
   ],
   "execution_count":1,
   "outputs":[
    {
     "name":"stdout",
     "text":[
      "to jest pierwsza komórka w notebooku...\n"
     ],
     "output_type":"stream"
    }
   ],
   "metadata":{
    "datalore":{
     "node_id":"eA87RxyOUxa8JD70gCFM5x",
     "type":"CODE",
     "hide_input_from_viewers":true,
     "hide_output_from_viewers":true
    }
   }
  },
  {
   "cell_type":"code",
   "source":[
    "import numpy as np"
   ],
   "execution_count":2,
   "outputs":[],
   "metadata":{
    "datalore":{
     "node_id":"iBHSAil3LQ095faZLnBt1H",
     "type":"CODE",
     "hide_input_from_viewers":true,
     "hide_output_from_viewers":true
    }
   }
  },
  {
   "cell_type":"code",
   "source":[
    "np.arange(23)"
   ],
   "execution_count":3,
   "outputs":[
    {
     "data":{
      "text\/html":[
       "<pre>array([ 0,  1,  2,  3,  4,  5,  6,  7,  8,  9, 10, 11, 12, 13, 14, 15, 16,\n",
       "       17, 18, 19, 20, 21, 22])<\/pre>"
      ]
     },
     "metadata":{},
     "output_type":"display_data"
    }
   ],
   "metadata":{
    "datalore":{
     "node_id":"xv1NYssVvjEITmawRq1EGr",
     "type":"CODE",
     "hide_input_from_viewers":true,
     "hide_output_from_viewers":true
    }
   }
  },
  {
   "cell_type":"markdown",
   "source":[
    "to jest przykładowy **NOTEBOOK**. Testujemy możliwości <span style=\"color:red; font-size:16pt;\">Datalore<\/span>.<br>\n",
    "Ciąg dlaszy nastąpi."
   ],
   "attachments":{},
   "metadata":{
    "datalore":{
     "node_id":"zY0tBhxw9DmytFsz4BFfBW",
     "type":"MD",
     "hide_input_from_viewers":true,
     "hide_output_from_viewers":true
    }
   }
  },
  {
   "cell_type":"code",
   "source":[
    "import matplotlib.pyplot as plt\n",
    "\n",
    "# Define sigmoid function\n",
    "def sigmoid(x):\n",
    "    return 1\/(1 + np.exp(-x))\n",
    "\n",
    "# Create an array of x values from -10 to 10\n",
    "x = np.linspace(-10, 10, 500)\n",
    "\n",
    "# Plot the sigmoid function\n",
    "plt.figure(figsize=(9, 6))\n",
    "plt.plot(x, sigmoid(x))\n",
    "plt.title('Sigmoid function')\n",
    "plt.xlabel('x')\n",
    "plt.ylabel('sigmoid(x)')\n",
    "plt.grid()\n",
    "plt.show()"
   ],
   "execution_count":6,
   "outputs":[
    {
     "data":{
      "image\/png":"[encoded data removed]"
     },
     "metadata":{
      "image\/png":{}
     },
     "output_type":"display_data"
    }
   ],
   "metadata":{
    "datalore":{
     "node_id":"nemUh2RO84H6vIO3wS1pE1",
     "type":"CODE",
     "hide_input_from_viewers":true,
     "hide_output_from_viewers":true
    }
   }
  },
  {
   "cell_type":"code",
   "source":[
    "from sklearn.model_selection import train_test_split\n",
    "from sklearn.tree import DecisionTreeClassifier\n",
    "from sklearn.metrics import classification_report,accuracy_score\n",
    "import pandas as pd\n",
    "from sklearn import preprocessing\n",
    "\n",
    "# Load pima dataset\n",
    "url = \"https:\/\/raw.githubusercontent.com\/jbrownlee\/Datasets\/master\/pima-indians-diabetes.data.csv\"\n",
    "names = ['preg', 'plas', 'pres', 'skin', 'test', 'mass', 'pedi', 'age', 'class']\n",
    "dataframe = pd.read_csv(url, names=names)\n",
    "\n",
    "# Split into input (X) and output (Y) variables\n",
    "array = dataframe.values\n",
    "X = array[:,0:8]\n",
    "Y = array[:,8]\n",
    "\n",
    "# Normalize the data\n",
    "X = preprocessing.StandardScaler().fit(X).transform(X.astype(float))\n",
    "\n",
    "# create a training and testing dataset\n",
    "X_train, X_test, y_train, y_test = train_test_split( X, Y, test_size=0.2, random_state=4)\n",
    "\n",
    "# Initialize and fit the model\n",
    "classifier = DecisionTreeClassifier(random_state=1234)\n",
    "model = classifier.fit(X_train, y_train)\n",
    "\n",
    "# Create prediction\n",
    "y_pred = model.predict(X_test)\n",
    "\n",
    "# Evaluate the model\n",
    "print(\"Accuracy:\",accuracy_score(y_test, y_pred))\n",
    "print(classification_report(y_test, y_pred))"
   ],
   "execution_count":7,
   "outputs":[
    {
     "name":"stdout",
     "text":[
      "Accuracy: 0.6883116883116883\n",
      "              precision    recall  f1-score   support\n",
      "\n",
      "         0.0       0.77      0.75      0.76       102\n",
      "         1.0       0.54      0.56      0.55        52\n",
      "\n",
      "    accuracy                           0.69       154\n",
      "   macro avg       0.65      0.66      0.65       154\n",
      "weighted avg       0.69      0.69      0.69       154\n",
      "\n"
     ],
     "output_type":"stream"
    }
   ],
   "metadata":{
    "datalore":{
     "node_id":"QApPSW5DTjnUZsXDYpgeF3",
     "type":"CODE",
     "hide_input_from_viewers":true,
     "hide_output_from_viewers":true
    }
   }
  },
  {
   "cell_type":"code",
   "source":[
    "from sklearn.metrics import confusion_matrix\n",
    "import seaborn as sns\n",
    "\n",
    "# Calculate the confusion matrix\n",
    "cm = confusion_matrix(y_test, y_pred)\n",
    "\n",
    "# Display the confusion matrix using seaborn's heatmap\n",
    "plt.figure(figsize=(10,7))\n",
    "sns.heatmap(cm, annot=True, fmt=\".0f\", linewidths=.5, square = True, cmap = 'Blues_r');\n",
    "plt.ylabel('Actual label');\n",
    "plt.xlabel('Predicted label');\n",
    "all_sample_title = 'Accuracy Score: {0}'.format(accuracy_score(y_test, y_pred))\n",
    "plt.title(all_sample_title, size = 15);"
   ],
   "execution_count":8,
   "outputs":[
    {
     "data":{
      "image\/png":"[encoded data removed]"
     },
     "metadata":{
      "image\/png":{}
     },
     "output_type":"display_data"
    }
   ],
   "metadata":{
    "datalore":{
     "node_id":"zHXOnWYHkivXlWmh3G2hAL",
     "type":"CODE",
     "hide_input_from_viewers":true,
     "hide_output_from_viewers":true
    }
   }
  }
 ],
 "metadata":{
  "kernelspec":{
   "display_name":"Python",
   "language":"python",
   "name":"python"
  },
  "datalore":{
   "computation_mode":"JUPYTER",
   "package_manager":"pip",
   "base_environment":"default",
   "packages":[],
   "report_row_ids":[],
   "version":3
  }
 },
 "nbformat":4,
 "nbformat_minor":4
}