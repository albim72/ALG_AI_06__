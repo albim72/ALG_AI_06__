{
  "cells": [
    {
      "cell_type": "code",
      "source": [
        "!pip install pyyaml h5py"
      ],
      "execution_count": 1,
      "outputs": [
        {
          "output_type": "stream",
          "name": "stdout",
          "text": [
            "Requirement already satisfied: pyyaml in /usr/local/lib/python3.10/dist-packages (6.0.1)\n",
            "Requirement already satisfied: h5py in /usr/local/lib/python3.10/dist-packages (3.9.0)\n",
            "Requirement already satisfied: numpy>=1.17.3 in /usr/local/lib/python3.10/dist-packages (from h5py) (1.25.2)\n"
          ]
        }
      ],
      "metadata": {
        "datalore": {
          "node_id": "NTO589EUXJqdcgGLPs2pdC",
          "type": "CODE",
          "hide_input_from_viewers": true,
          "hide_output_from_viewers": true
        },
        "colab": {
          "base_uri": "https://localhost:8080/"
        },
        "id": "P8nxfF8PQZGe",
        "outputId": "f75bd5d2-ec76-4e88-fa66-1ed9b91571c0"
      }
    },
    {
      "cell_type": "code",
      "source": [
        "import os\n",
        "import tensorflow as tf\n",
        "from tensorflow import keras"
      ],
      "execution_count": 2,
      "outputs": [],
      "metadata": {
        "datalore": {
          "node_id": "0FYFuizv3d6w3IbkspFCy3",
          "type": "CODE",
          "hide_input_from_viewers": true,
          "hide_output_from_viewers": true
        },
        "id": "0veqw2I_QZGi"
      }
    },
    {
      "cell_type": "code",
      "source": [
        "(train_images,train_labels), (test_images,test_labels) = keras.datasets.mnist.load_data()\n",
        "\n",
        "print(f\"trening -> {train_images.shape}\")\n",
        "print(f\"trening -> {test_images.shape}\")\n",
        "\n",
        "train_labels = train_labels[:1000]\n",
        "test_labels = test_labels[:1000]\n",
        "\n",
        "train_images = train_images[:1000].reshape(-1,28*28)/255.0\n",
        "test_images = test_images[:1000].reshape(-1,28*28)/255.0"
      ],
      "execution_count": 3,
      "outputs": [
        {
          "output_type": "stream",
          "name": "stdout",
          "text": [
            "Downloading data from https://storage.googleapis.com/tensorflow/tf-keras-datasets/mnist.npz\n",
            "11490434/11490434 [==============================] - 0s 0us/step\n",
            "trening -> (60000, 28, 28)\n",
            "trening -> (10000, 28, 28)\n"
          ]
        }
      ],
      "metadata": {
        "datalore": {
          "node_id": "U5rEwEj6pcXTqcxzDoCCcA",
          "type": "CODE",
          "hide_input_from_viewers": true,
          "hide_output_from_viewers": true
        },
        "colab": {
          "base_uri": "https://localhost:8080/"
        },
        "id": "y6sfUSP4QZGn",
        "outputId": "1d5e1e55-5ec3-4868-c78f-d4e974821276"
      }
    },
    {
      "cell_type": "code",
      "source": [
        "train_images.shape"
      ],
      "execution_count": 4,
      "outputs": [
        {
          "output_type": "execute_result",
          "data": {
            "text/plain": [
              "(1000, 784)"
            ]
          },
          "metadata": {},
          "execution_count": 4
        }
      ],
      "metadata": {
        "datalore": {
          "node_id": "gTeAtJeullmD1LWUYq4zmA",
          "type": "CODE",
          "hide_input_from_viewers": true,
          "hide_output_from_viewers": true
        },
        "colab": {
          "base_uri": "https://localhost:8080/"
        },
        "id": "uWnSSWNbQZGo",
        "outputId": "5dfe5ef5-1481-4008-946a-c67d5d35b150"
      }
    },
    {
      "cell_type": "code",
      "source": [
        "test_images.shape"
      ],
      "execution_count": 5,
      "outputs": [
        {
          "output_type": "execute_result",
          "data": {
            "text/plain": [
              "(1000, 784)"
            ]
          },
          "metadata": {},
          "execution_count": 5
        }
      ],
      "metadata": {
        "datalore": {
          "node_id": "wuODuio2YE9AdoWYNo8qTb",
          "type": "CODE",
          "hide_input_from_viewers": true,
          "hide_output_from_viewers": true
        },
        "colab": {
          "base_uri": "https://localhost:8080/"
        },
        "id": "yBqZHBoeQZGp",
        "outputId": "c2995222-5b18-40be-9466-8d7f3d1147d6"
      }
    },
    {
      "cell_type": "code",
      "source": [
        "def create_model():\n",
        "    model = tf.keras.models.Sequential([\n",
        "        keras.layers.Dense(512,activation='relu',input_shape=(784,)),\n",
        "        keras.layers.Dropout(0.3),\n",
        "        keras.layers.Dense(10)\n",
        "    ])\n",
        "    model.compile(optimizer='adam',\n",
        "                  loss=tf.losses.SparseCategoricalCrossentropy(from_logits=True),\n",
        "                  metrics=[tf.metrics.SparseCategoricalAccuracy()])\n",
        "\n",
        "    return model"
      ],
      "execution_count": 6,
      "outputs": [],
      "metadata": {
        "datalore": {
          "node_id": "WMuR3aUSLk8CgaOsilBRsj",
          "type": "CODE",
          "hide_input_from_viewers": true,
          "hide_output_from_viewers": true
        },
        "id": "BV9onIlkQZGq"
      }
    },
    {
      "cell_type": "code",
      "source": [
        "model = create_model()\n",
        "model.summary()"
      ],
      "execution_count": 7,
      "outputs": [
        {
          "output_type": "stream",
          "name": "stdout",
          "text": [
            "Model: \"sequential\"\n",
            "_________________________________________________________________\n",
            " Layer (type)                Output Shape              Param #   \n",
            "=================================================================\n",
            " dense (Dense)               (None, 512)               401920    \n",
            "                                                                 \n",
            " dropout (Dropout)           (None, 512)               0         \n",
            "                                                                 \n",
            " dense_1 (Dense)             (None, 10)                5130      \n",
            "                                                                 \n",
            "=================================================================\n",
            "Total params: 407050 (1.55 MB)\n",
            "Trainable params: 407050 (1.55 MB)\n",
            "Non-trainable params: 0 (0.00 Byte)\n",
            "_________________________________________________________________\n"
          ]
        }
      ],
      "metadata": {
        "datalore": {
          "node_id": "TpRNGzzLuOD6DTdtsooHmz",
          "type": "CODE",
          "hide_input_from_viewers": true,
          "hide_output_from_viewers": true
        },
        "colab": {
          "base_uri": "https://localhost:8080/"
        },
        "id": "fKNsgk9NQZGr",
        "outputId": "1d6f3ccb-9414-40eb-fad4-efd8d02f3c09"
      }
    },
    {
      "cell_type": "code",
      "source": [
        "#użycie wywołania zwrotnego w punkcie kontrolmym\n",
        "checkpoint_path = \"training_1/cp.ckpt\"\n",
        "checkpoint_dir = os.path.dirname(checkpoint_path)\n",
        "\n",
        "cp_callback = keras.callbacks.ModelCheckpoint(filepath=checkpoint_path,\n",
        "                                              save_weights_only=True,\n",
        "                                              verbose=1)\n",
        "\n",
        "\n",
        "model.fit(train_images,\n",
        "          train_labels,\n",
        "          epochs=10,\n",
        "          validation_data=(test_images,test_labels),\n",
        "          callbacks=[cp_callback])"
      ],
      "execution_count": 8,
      "outputs": [
        {
          "output_type": "stream",
          "name": "stdout",
          "text": [
            "Epoch 1/10\n",
            "32/32 [==============================] - ETA: 0s - loss: 1.2345 - sparse_categorical_accuracy: 0.6570\n",
            "Epoch 1: saving model to training_1/cp.ckpt\n",
            "32/32 [==============================] - 5s 55ms/step - loss: 1.2345 - sparse_categorical_accuracy: 0.6570 - val_loss: 0.7653 - val_sparse_categorical_accuracy: 0.7730\n",
            "Epoch 2/10\n",
            "32/32 [==============================] - ETA: 0s - loss: 0.4686 - sparse_categorical_accuracy: 0.8570\n",
            "Epoch 2: saving model to training_1/cp.ckpt\n",
            "32/32 [==============================] - 1s 27ms/step - loss: 0.4686 - sparse_categorical_accuracy: 0.8570 - val_loss: 0.5294 - val_sparse_categorical_accuracy: 0.8440\n",
            "Epoch 3/10\n",
            "32/32 [==============================] - ETA: 0s - loss: 0.3165 - sparse_categorical_accuracy: 0.9120\n",
            "Epoch 3: saving model to training_1/cp.ckpt\n",
            "32/32 [==============================] - 1s 17ms/step - loss: 0.3165 - sparse_categorical_accuracy: 0.9120 - val_loss: 0.4592 - val_sparse_categorical_accuracy: 0.8630\n",
            "Epoch 4/10\n",
            "29/32 [==========================>...] - ETA: 0s - loss: 0.2356 - sparse_categorical_accuracy: 0.9386\n",
            "Epoch 4: saving model to training_1/cp.ckpt\n",
            "32/32 [==============================] - 1s 16ms/step - loss: 0.2365 - sparse_categorical_accuracy: 0.9370 - val_loss: 0.4667 - val_sparse_categorical_accuracy: 0.8580\n",
            "Epoch 5/10\n",
            "31/32 [============================>.] - ETA: 0s - loss: 0.1797 - sparse_categorical_accuracy: 0.9546\n",
            "Epoch 5: saving model to training_1/cp.ckpt\n",
            "32/32 [==============================] - 1s 19ms/step - loss: 0.1793 - sparse_categorical_accuracy: 0.9550 - val_loss: 0.4594 - val_sparse_categorical_accuracy: 0.8450\n",
            "Epoch 6/10\n",
            "28/32 [=========================>....] - ETA: 0s - loss: 0.1424 - sparse_categorical_accuracy: 0.9710\n",
            "Epoch 6: saving model to training_1/cp.ckpt\n",
            "32/32 [==============================] - 1s 19ms/step - loss: 0.1408 - sparse_categorical_accuracy: 0.9730 - val_loss: 0.4360 - val_sparse_categorical_accuracy: 0.8690\n",
            "Epoch 7/10\n",
            "31/32 [============================>.] - ETA: 0s - loss: 0.1031 - sparse_categorical_accuracy: 0.9839\n",
            "Epoch 7: saving model to training_1/cp.ckpt\n",
            "32/32 [==============================] - 1s 17ms/step - loss: 0.1025 - sparse_categorical_accuracy: 0.9840 - val_loss: 0.4041 - val_sparse_categorical_accuracy: 0.8690\n",
            "Epoch 8/10\n",
            "32/32 [==============================] - ETA: 0s - loss: 0.0740 - sparse_categorical_accuracy: 0.9900\n",
            "Epoch 8: saving model to training_1/cp.ckpt\n",
            "32/32 [==============================] - 1s 20ms/step - loss: 0.0740 - sparse_categorical_accuracy: 0.9900 - val_loss: 0.4016 - val_sparse_categorical_accuracy: 0.8690\n",
            "Epoch 9/10\n",
            "29/32 [==========================>...] - ETA: 0s - loss: 0.0667 - sparse_categorical_accuracy: 0.9903\n",
            "Epoch 9: saving model to training_1/cp.ckpt\n",
            "32/32 [==============================] - 1s 17ms/step - loss: 0.0675 - sparse_categorical_accuracy: 0.9900 - val_loss: 0.4098 - val_sparse_categorical_accuracy: 0.8720\n",
            "Epoch 10/10\n",
            "27/32 [========================>.....] - ETA: 0s - loss: 0.0511 - sparse_categorical_accuracy: 0.9954\n",
            "Epoch 10: saving model to training_1/cp.ckpt\n",
            "32/32 [==============================] - 1s 17ms/step - loss: 0.0514 - sparse_categorical_accuracy: 0.9950 - val_loss: 0.3950 - val_sparse_categorical_accuracy: 0.8790\n"
          ]
        },
        {
          "output_type": "execute_result",
          "data": {
            "text/plain": [
              "<keras.src.callbacks.History at 0x7d6ddc6973a0>"
            ]
          },
          "metadata": {},
          "execution_count": 8
        }
      ],
      "metadata": {
        "datalore": {
          "node_id": "bJbmILg8PgGGHdxjsgLUSu",
          "type": "CODE",
          "hide_input_from_viewers": true,
          "hide_output_from_viewers": true
        },
        "colab": {
          "base_uri": "https://localhost:8080/"
        },
        "id": "2gMoqTg4QZGs",
        "outputId": "fe6ade61-06ba-47b9-d473-bba6de893f3f"
      }
    },
    {
      "cell_type": "code",
      "source": [
        "os.listdir(checkpoint_dir)"
      ],
      "execution_count": 9,
      "outputs": [
        {
          "output_type": "execute_result",
          "data": {
            "text/plain": [
              "['checkpoint', 'cp.ckpt.data-00000-of-00001', 'cp.ckpt.index']"
            ]
          },
          "metadata": {},
          "execution_count": 9
        }
      ],
      "metadata": {
        "datalore": {
          "node_id": "XyvTEzbFJ3kQx5Xd24C4gg",
          "type": "CODE",
          "hide_input_from_viewers": true,
          "hide_output_from_viewers": true
        },
        "colab": {
          "base_uri": "https://localhost:8080/"
        },
        "id": "-ZZ4XEJYQZGs",
        "outputId": "c29fecf0-9c84-4a71-edac-b7846573d08a"
      }
    },
    {
      "cell_type": "code",
      "source": [
        "model = create_model()\n",
        "\n",
        "loss, acc = model.evaluate(test_images, test_labels, verbose=2)\n",
        "print(\"Untrained model, accuracy: {:5.2f}%\".format(100*acc))"
      ],
      "metadata": {
        "colab": {
          "base_uri": "https://localhost:8080/"
        },
        "id": "MPd9TrNxQpDS",
        "outputId": "a67a979f-3417-47aa-cb37-41511bcb40de"
      },
      "execution_count": 10,
      "outputs": [
        {
          "output_type": "stream",
          "name": "stdout",
          "text": [
            "32/32 - 0s - loss: 2.3571 - sparse_categorical_accuracy: 0.1000 - 201ms/epoch - 6ms/step\n",
            "Untrained model, accuracy: 10.00%\n"
          ]
        }
      ]
    },
    {
      "cell_type": "code",
      "source": [
        "model.load_weights(checkpoint_path)\n",
        "\n",
        "loss,acc = model.evaluate(test_images, test_labels, verbose=2)\n",
        "print(\"Restored model, accuracy: {:5.2f}%\".format(100*acc))"
      ],
      "metadata": {
        "colab": {
          "base_uri": "https://localhost:8080/"
        },
        "id": "8h6T-mCeQ6RX",
        "outputId": "aee378cf-0f5a-4863-a2b2-d98da9b8aada"
      },
      "execution_count": 11,
      "outputs": [
        {
          "output_type": "stream",
          "name": "stdout",
          "text": [
            "32/32 - 0s - loss: 0.3950 - sparse_categorical_accuracy: 0.8790 - 97ms/epoch - 3ms/step\n",
            "Restored model, accuracy: 87.90%\n"
          ]
        }
      ]
    },
    {
      "cell_type": "code",
      "source": [],
      "metadata": {
        "id": "eOZyBjXORnzs"
      },
      "execution_count": null,
      "outputs": []
    }
  ],
  "metadata": {
    "kernelspec": {
      "display_name": "Python",
      "language": "python",
      "name": "python"
    },
    "datalore": {
      "computation_mode": "JUPYTER",
      "package_manager": "pip",
      "base_environment": "default",
      "packages": [],
      "report_row_ids": [],
      "version": 3
    },
    "colab": {
      "provenance": []
    }
  },
  "nbformat": 4,
  "nbformat_minor": 0
}